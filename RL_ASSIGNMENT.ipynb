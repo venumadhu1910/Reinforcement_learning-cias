{
 "cells": [
  {
   "cell_type": "markdown",
   "id": "4388796a",
   "metadata": {},
   "source": [
    "# Problem statement"
   ]
  },
  {
   "cell_type": "markdown",
   "id": "56f78feb",
   "metadata": {},
   "source": [
    "Optimize Reinforcement Learning algorithms to minimize both the distance to a target location and the time taken to reach it by incorporating Temporal Difference learning in the update functions.\n",
    "\n",
    "\n",
    "\n",
    "\n",
    "\n",
    "\n"
   ]
  },
  {
   "cell_type": "code",
   "execution_count": 9,
   "id": "30c463e6",
   "metadata": {},
   "outputs": [],
   "source": [
    "import numpy as np\n",
    "import random\n",
    "import matplotlib.pyplot as plt"
   ]
  },
  {
   "cell_type": "markdown",
   "id": "6c140974",
   "metadata": {},
   "source": [
    "This code defines a grid-based environment where the agent starts at the bottom-left corner and aims to reach the top-right corner, with the goal position predefined. It also implements step functionality to update the agent’s position based on the chosen action, while calculating the reward based on distance and a time penalty."
   ]
  },
  {
   "cell_type": "code",
   "execution_count": 16,
   "id": "7b335d52",
   "metadata": {},
   "outputs": [],
   "source": [
    "class Environment:\n",
    "    def __init__(self, grid_size=10):\n",
    "        self.grid_size = grid_size\n",
    "        self.goal_position = np.array([grid_size - 1, grid_size - 1])\n",
    "        self.state = np.array([0, 0])\n",
    "        self.max_steps = 100\n",
    "\n",
    "    def reset(self):\n",
    "        self.state = np.array([0, 0])\n",
    "        return self.state\n",
    "\n",
    "    def step(self, action):\n",
    "        if action == 0:  # Move up\n",
    "            self.state[1] = min(self.state[1] + 1, self.grid_size - 1)\n",
    "        elif action == 1:  # Move down\n",
    "            self.state[1] = max(self.state[1] - 1, 0)\n",
    "        elif action == 2:  # Move right\n",
    "            self.state[0] = min(self.state[0] + 1, self.grid_size - 1)\n",
    "        elif action == 3:  # Move left\n",
    "            self.state[0] = max(self.state[0] - 1, 0)\n",
    "\n",
    "        distance = np.linalg.norm(self.goal_position - self.state)\n",
    "        time_penalty = -1\n",
    "        done = np.array_equal(self.state, self.goal_position)\n",
    "        reward = -distance + time_penalty\n",
    "        return self.state, reward, done"
   ]
  },
  {
   "cell_type": "markdown",
   "id": "73b58f90",
   "metadata": {},
   "source": [
    "Implements the Q-learning algorithm, which includes initializing Q-values, selecting actions using an epsilon-greedy strategy, and updating Q-values using the Bellman equation. The agent learns to navigate towards the goal efficiently."
   ]
  },
  {
   "cell_type": "code",
   "execution_count": 17,
   "id": "a5baeeb1",
   "metadata": {},
   "outputs": [],
   "source": [
    "class QLearningAgent:\n",
    "    def __init__(self, env, alpha=0.1, gamma=0.9, epsilon=0.1):\n",
    "        self.env = env\n",
    "        self.alpha = alpha\n",
    "        self.gamma = gamma\n",
    "        self.epsilon = epsilon\n",
    "        self.q_table = {}\n",
    "\n",
    "    def get_q_value(self, state, action):\n",
    "        return self.q_table.get((tuple(state), action), 0.0)\n",
    "\n",
    "    def update_q_value(self, state, action, next_state, reward):\n",
    "        max_q_next = max(self.get_q_value(next_state, a) for a in range(4))\n",
    "        current_q = self.get_q_value(state, action)\n",
    "        new_q = current_q + self.alpha * (reward + self.gamma * max_q_next - current_q)\n",
    "        self.q_table[(tuple(state), action)] = new_q\n",
    "\n",
    "    def select_action(self, state):\n",
    "        if random.uniform(0, 1) < self.epsilon:\n",
    "            return random.randint(0, 3)\n",
    "        else:\n",
    "            return np.argmax([self.get_q_value(state, a) for a in range(4)])\n",
    "\n",
    "    def train(self, episodes=100):\n",
    "        self.steps_per_episode = []\n",
    "        for episode in range(episodes):\n",
    "            state = self.env.reset()\n",
    "            done = False\n",
    "            steps = 0\n",
    "            \n",
    "            while not done and steps < self.env.max_steps:\n",
    "                action = self.select_action(state)\n",
    "                next_state, reward, done = self.env.step(action)\n",
    "                self.update_q_value(state, action, next_state, reward)\n",
    "                state = next_state\n",
    "                steps += 1\n",
    "            \n",
    "            self.steps_per_episode.append(steps)"
   ]
  },
  {
   "cell_type": "markdown",
   "id": "fcac052c",
   "metadata": {},
   "source": [
    "Plots the number of steps taken in each episode during training, providing insight into the agent's learning process."
   ]
  },
  {
   "cell_type": "code",
   "execution_count": 18,
   "id": "6bab7647",
   "metadata": {},
   "outputs": [],
   "source": [
    "def visualize_training(agent):\n",
    "    plt.plot(agent.steps_per_episode)\n",
    "    plt.title('Steps per Episode during Training')\n",
    "    plt.xlabel('Episode')\n",
    "    plt.ylabel('Steps Taken')\n",
    "    plt.grid()\n",
    "    plt.show()"
   ]
  },
  {
   "cell_type": "code",
   "execution_count": 19,
   "id": "3b67639a",
   "metadata": {},
   "outputs": [
    {
     "data": {
      "image/png": "[encoded data removed]",
      "text/plain": [
       "<Figure size 640x480 with 1 Axes>"
      ]
     },
     "metadata": {},
     "output_type": "display_data"
    }
   ],
   "source": [
    "env = Environment()\n",
    "agent = QLearningAgent(env)\n",
    "agent.train(episodes=100)\n",
    "visualize_training(agent)"
   ]
  },
  {
   "cell_type": "markdown",
   "id": "7e2930ff",
   "metadata": {},
   "source": [
    "It creates instances of the environment and agent, trains the agent, visualizes the training process, tests the trained agent to reach the goal, and visualizes the trajectory taken by the agent."
   ]
  },
  {
   "cell_type": "code",
   "execution_count": 20,
   "id": "55b436d7",
   "metadata": {},
   "outputs": [
    {
     "name": "stdout",
     "output_type": "stream",
     "text": [
      "Reached goal in 10395 steps!\n"
     ]
    }
   ],
   "source": [
    "state = env.reset()\n",
    "done = False\n",
    "steps = 0\n",
    "trajectory = [tuple(state)]\n",
    "\n",
    "while not done:\n",
    "    action = agent.select_action(state)\n",
    "    state, reward, done = env.step(action)\n",
    "    trajectory.append(tuple(state))\n",
    "    steps += 1\n",
    "\n",
    "print(\"Reached goal in\", steps, \"steps!\")"
   ]
  },
  {
   "cell_type": "code",
   "execution_count": 21,
   "id": "b172f3cc",
   "metadata": {},
   "outputs": [
    {
     "data": {
      "image/png": "[encoded data removed]",
      "text/plain": [
       "<Figure size 640x480 with 1 Axes>"
      ]
     },
     "metadata": {},
     "output_type": "display_data"
    }
   ],
   "source": [
    "trajectory = np.array(trajectory)\n",
    "plt.plot(trajectory[:, 0], trajectory[:, 1], marker='o')\n",
    "plt.plot(env.goal_position[0], env.goal_position[1], marker='x', markersize=10, color='red', label='Goal')\n",
    "plt.title('Agent Path to Goal')\n",
    "plt.xlim(-1, env.grid_size)\n",
    "plt.ylim(-1, env.grid_size)\n",
    "plt.grid()\n",
    "plt.xlabel('X Position')\n",
    "plt.ylabel('Y Position')\n",
    "plt.legend()\n",
    "plt.show()"
   ]
  },
  {
   "cell_type": "code",
   "execution_count": null,
   "id": "535e4c1b",
   "metadata": {},
   "outputs": [],
   "source": []
  }
 ],
 "metadata": {
  "kernelspec": {
   "display_name": "Python 3 (ipykernel)",
   "language": "python",
   "name": "python3"
  },
  "language_info": {
   "codemirror_mode": {
    "name": "ipython",
    "version": 3
   },
   "file_extension": ".py",
   "mimetype": "text/x-python",
   "name": "python",
   "nbconvert_exporter": "python",
   "pygments_lexer": "ipython3",
   "version": "3.9.16"
  }
 },
 "nbformat": 4,
 "nbformat_minor": 5
}
